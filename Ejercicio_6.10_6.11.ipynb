{
 "cells": [
  {
   "cell_type": "markdown",
   "metadata": {},
   "source": [
    "# Ejercicio 6.10"
   ]
  },
  {
   "cell_type": "markdown",
   "metadata": {},
   "source": [
    "Considere la ecuación \n",
    "\\begin{equation}\n",
    "x=1-e^{-cx}\n",
    "\\end{equation}\n",
    "donde c es un parámetro conocido y x desconocido (modelo matemático de las epidemias)\n",
    "\n",
    "\n",
    "a) Escriba un programa para resolver esta ecuación para x, usando el método de relajación \n",
    "para el caso c=2 con una precisión de 10e-6\n",
    "\n",
    "b) Modifique su programa  para calcular la solución para valores de c de 0 a 3 en passo de 0.01 y haga un gráfico de x en función de c.\n",
    "\n",
    "debería ver una transición clara de un régimen en el que x=0 en un régimen distinto de cero."
   ]
  },
  {
   "cell_type": "markdown",
   "metadata": {},
   "source": [
    "# a)"
   ]
  },
  {
   "cell_type": "code",
   "execution_count": 1,
   "metadata": {},
   "outputs": [],
   "source": [
    "from numpy import *\n",
    "from math import sin, cos, pi, exp, log\n",
    "from pylab import plot, xlabel, ylabel, show"
   ]
  },
  {
   "cell_type": "code",
   "execution_count": 10,
   "metadata": {},
   "outputs": [
    {
     "name": "stdout",
     "output_type": "stream",
     "text": [
      "La solución es: 0.7968126311118457\n",
      "El número de iteraciones es: 14\n"
     ]
    }
   ],
   "source": [
    "c = 2\n",
    "pre = 1e-6\n",
    "mi = 1.0\n",
    "err = 1.0\n",
    "i = 0\n",
    "\n",
    "while err > pre:\n",
    "    mi,mf = 1-exp(-c*mi),mi \n",
    "    err=abs((mi-mf)/(1-exp(c*mf)/c))  \n",
    "    i = i + 1\n",
    "    \n",
    "print(\"La solución es:\",mi)"
   ]
  },
  {
   "cell_type": "markdown",
   "metadata": {},
   "source": [
    "# b)"
   ]
  },
  {
   "cell_type": "code",
   "execution_count": 11,
   "metadata": {},
   "outputs": [],
   "source": [
    "c = 3.0\n",
    "m = []\n",
    "pre1 = 1e-6\n",
    "\n",
    "ptos = 300\n",
    "spc = linspace(0.01,c,ptos)\n",
    "\n",
    "for c in spc:\n",
    "    mi = 1.0\n",
    "    err = 1.0\n",
    "    \n",
    "    while err > pre:\n",
    "        mi,mf = 1-exp(-c*mi),mi \n",
    "        err=abs((mi-mf)/(1-exp(c*mf)/c)) \n",
    "    m.append(mi)   "
   ]
  },
  {
   "cell_type": "code",
   "execution_count": 12,
   "metadata": {},
   "outputs": [
    {
     "data": {
      "image/png": "[encoded data removed]",
      "text/plain": [
       "<matplotlib.figure.Figure at 0x7f1f4f1ca438>"
      ]
     },
     "metadata": {
      "needs_background": "light"
     },
     "output_type": "display_data"
    }
   ],
   "source": [
    "plot(spc,m)\n",
    "xlabel(\"C_ptos\")\n",
    "ylabel(\"X_Solution\")\n",
    "show()"
   ]
  },
  {
   "cell_type": "markdown",
   "metadata": {},
   "source": [
    "# Ejercicio 6.11"
   ]
  },
  {
   "cell_type": "markdown",
   "metadata": {},
   "source": [
    "# a)"
   ]
  },
  {
   "cell_type": "markdown",
   "metadata": {},
   "source": [
    " Derive un equivalente de la ecuación. (6.81) para el método de sobre relajación y, por lo tanto, muestra que el error en x ', el equivalente de la ecuación. (6.83), viene dado por:\n",
    "\n",
    "\\begin{equation}\n",
    "\\varepsilon'=\\frac{x-x'}{1-1/\\left [ (1+w)f'(x)-w \\right ]}\n",
    "\\end{equation}"
   ]
  },
  {
   "cell_type": "markdown",
   "metadata": {},
   "source": [
    "Partiendo de la definicion de $x^{*}$\n",
    "\n",
    "\\begin{equation}\n",
    "x^{*}=x'+\\varepsilon'  \\\\\n",
    "\\end{equation}\n",
    "\n",
    "Ahora, conociendo el valor de $x{}'$ para el metodo de sobrerelajacion\n",
    "\n",
    "\\begin{equation}\n",
    "x'=(1+\\omega)f(x)-\\omega x\n",
    "\\end{equation}\n",
    "\n",
    "Reemplazando $x{}'$ en $x^{*}$, obtenemos\n",
    "\n",
    "\\begin{equation}\n",
    "x^{*}=(1+\\omega)f(x)-\\omega x+\\varepsilon'\\\\\n",
    "f'(x^{*})=(1+\\omega)f'(x)-\\omega\n",
    "\\end{equation}\n",
    "\n",
    "Reescribiendo para obtner un estimado de $\\varepsilon' $ Ec.6.83\n",
    "\n",
    "\\begin{equation}\n",
    "\\varepsilon' =\\frac{x-x^{*}}{1-\\frac{1}{f'(x^{*})}}\n",
    "\\end{equation}\n",
    "\n",
    "Reemplazando los valores encontrados obtenemos\n",
    "\\begin{equation}\n",
    "\\varepsilon'=\\frac{x-x^{*}}{1-\\frac{1}{(1+\\omega)f'(x)-\\omega}}\n",
    "\\end{equation}"
   ]
  },
  {
   "cell_type": "markdown",
   "metadata": {},
   "source": [
    "# b) "
   ]
  },
  {
   "cell_type": "markdown",
   "metadata": {},
   "source": [
    "Considere nuevamente la ecuación $x = 1-e^{-cx}$ que resolvimos en el ejercicio 6.10. Tome el programa que escribió para la parte (a) de ese ejercicio, que resolvió la ecuación para el caso c = 2, y modifíquelo para imprimir el número de iteraciones necesarias para converger en una solución precisa de $10^{-6}$."
   ]
  },
  {
   "cell_type": "code",
   "execution_count": 25,
   "metadata": {},
   "outputs": [
    {
     "name": "stdout",
     "output_type": "stream",
     "text": [
      "La solución es: 0.7968126311118457\n",
      "El número de iteraciones es: 14\n"
     ]
    }
   ],
   "source": [
    "###### Constantes ######\n",
    "c = 2\n",
    "########################\n",
    "\n",
    "###### Valores Iniciales ######\n",
    "pre = 1e-6\n",
    "mi = 1.0\n",
    "err = 1.0\n",
    "i = 0\n",
    "###############################\n",
    "\n",
    "\n",
    "while err > pre:\n",
    "    mi,mf = 1-exp(-c*mi),mi \n",
    "    err=abs((mi-mf)/(1-exp(c*mf)/c))  \n",
    "    i = i + 1\n",
    "    \n",
    "print(\"La solución es:\",mi)\n",
    "print(\"El número de iteraciones es:\",i)\n",
    "\n",
    "#El while anterior calcular la solución de la funcion, para la precisión que registrada anteriormente. \n",
    "#teniendo como resultado el número de iteraciones y además una única solución del problema que se muestra\n",
    "#a continuación."
   ]
  },
  {
   "cell_type": "markdown",
   "metadata": {},
   "source": [
    "# c) "
   ]
  },
  {
   "cell_type": "markdown",
   "metadata": {},
   "source": [
    "Ahora escriba un nuevo programa (o modifique el anterior) para resolver la misma ecuación $x=1-e^{-cx}$ para c = 2, nuevamente con una precisión de $10^{-6}$, pero esta vez usando sobrerelajamiento. Haga que su programa imprima las respuestas que encuentre junto con la cantidad de iteraciones que tomó para encontrarlas. Experimente con diferentes valores de ω para ver qué tan rápido puede lograr que el método converja. Un valor de ω = 0.5 es un punto de partida razonable. Con un poco de prueba y error, debería poder hacer que el cálculo converja aproximadamente el doble de rápido que el método de relajación simple, es decir, en aproximadamente la mitad de las iteraciones."
   ]
  },
  {
   "cell_type": "code",
   "execution_count": 35,
   "metadata": {},
   "outputs": [
    {
     "name": "stdout",
     "output_type": "stream",
     "text": [
      "El número de iteraciones es: 4\n",
      "Las soluciones son: [0.796997075145081, 0.7968323724281932, 0.7968143476015649, 0.7968123729832619]\n"
     ]
    }
   ],
   "source": [
    "###### Constantes ######\n",
    "c = 2.0\n",
    "w = 0.5\n",
    "########################\n",
    "\n",
    "###### Valores Iniciales ######\n",
    "mi = 1.0\n",
    "m2 = []\n",
    "pre2 = 1e-6\n",
    "j = 0\n",
    "err = 1.0\n",
    "###############################\n",
    "\n",
    "\n",
    "while err > pre:\n",
    "    mi,mf = (1+w)*(1-exp(-c*mi))-w*mi,mi \n",
    "    err=abs((mi-mf)/(1-(1/((c*exp(-c*mf))+(w*c*exp(-c*mf))-w)))) \n",
    "    m2.append(mi)\n",
    "    j=j+1\n",
    "\n",
    "print(\"El número de iteraciones es:\",j)\n",
    "print(\"Las soluciones son:\",m2)\n",
    "\n",
    "#El while anterior calcular las soluciones de la funcion, para la precisión que registrada anteriormente. \n",
    "#teniendo como resultado el número de iteraciones y además las soluciones en cada iteración que son guardadas \n",
    "#en un arreglo y que serán mostradas enseguida."
   ]
  },
  {
   "cell_type": "markdown",
   "metadata": {},
   "source": [
    "# d) "
   ]
  },
  {
   "cell_type": "markdown",
   "metadata": {},
   "source": [
    "¿Hay alguna circunstancia bajo la cual usar un valor ω < 0 nos ayudaría a encontrar una solución más rápido de lo que podemos con el método de relajación ordinario? (Sugerencia: la respuesta es sí, pero ¿por qué?)\n",
    "\n",
    "Se puede obtener una solución más rápida con valores negativos pero esto depende del valor de la solución, es decir, si la solución tiene un valor negativo, por tanto al tener un w < 0 esta tendra menos iteraciones para encontrar la solución."
   ]
  },
  {
   "cell_type": "code",
   "execution_count": null,
   "metadata": {},
   "outputs": [],
   "source": []
  },
  {
   "cell_type": "code",
   "execution_count": null,
   "metadata": {},
   "outputs": [],
   "source": []
  }
 ],
 "metadata": {
  "kernelspec": {
   "display_name": "Python 3",
   "language": "python",
   "name": "python3"
  },
  "language_info": {
   "codemirror_mode": {
    "name": "ipython",
    "version": 3
   },
   "file_extension": ".py",
   "mimetype": "text/x-python",
   "name": "python",
   "nbconvert_exporter": "python",
   "pygments_lexer": "ipython3",
   "version": "3.6.9"
  }
 },
 "nbformat": 4,
 "nbformat_minor": 2
}
